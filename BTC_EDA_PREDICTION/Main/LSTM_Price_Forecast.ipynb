{
 "cells": [
  {
   "cell_type": "code",
   "execution_count": null,
   "metadata": {},
   "outputs": [],
   "source": [
    "import pandas as pd\n",
    "import numpy as np\n",
    "import matplotlib.pyplot as plt\n",
    "from sklearn.preprocessing import MinMaxScaler\n",
    "from sklearn.metrics import *\n",
    "from tensorflow.keras.callbacks import EarlyStopping"
   ]
  },
  {
   "cell_type": "code",
   "execution_count": null,
   "metadata": {},
   "outputs": [],
   "source": [
    "data = pd.read_csv(\"../../../../datasets/market/top_coins/BTC.csv\")\n",
    "# Convert Date to datetime and sort values in ascending order\n",
    "data['Date'] = pd.to_datetime(data['Date'], format='%m/%d/%y')\n",
    "data = data.sort_values(by='Date')\n",
    "\n",
    "# Select only Date and Close columns for time series forecasting\n",
    "data = data[['Date', 'Close']]\n",
    "print(\"Overview of dataset \\n\\n\" ,data.head() )"
   ]
  },
  {
   "cell_type": "code",
   "execution_count": null,
   "metadata": {},
   "outputs": [],
   "source": [
    "# Extract Close price values\n",
    "closing_prices = data['Close'].values.reshape(-1, 1)\n",
    "\n",
    "# Normalize the data using MinMaxScaler\n",
    "scaler = MinMaxScaler(feature_range=(0, 1))\n",
    "scaled_data = scaler.fit_transform(closing_prices)"
   ]
  },
  {
   "cell_type": "code",
   "execution_count": null,
   "metadata": {},
   "outputs": [],
   "source": [
    "# Split data into training and testing sets \n",
    "train_size = int(len(scaled_data) * 0.7)\n",
    "train_data, test_data = scaled_data[:train_size], scaled_data[train_size:]"
   ]
  },
  {
   "cell_type": "code",
   "execution_count": null,
   "metadata": {},
   "outputs": [],
   "source": [
    "# Prepare function to create sequences for LSTM\n",
    "def create_sequences(data, seq_length):\n",
    "    X, y = [], []\n",
    "    for i in range(len(data) - seq_length):\n",
    "        X.append(data[i:i+seq_length])\n",
    "        y.append(data[i+seq_length])\n",
    "    return np.array(X), np.array(y)"
   ]
  },
  {
   "cell_type": "code",
   "execution_count": null,
   "metadata": {},
   "outputs": [],
   "source": [
    "# Define sequence length\n",
    "sequence_length = 60\n",
    "# Create sequences for training and testing\n",
    "X_train, y_train = create_sequences(train_data, sequence_length)\n",
    "X_test, y_test = create_sequences(test_data, sequence_length)"
   ]
  },
  {
   "cell_type": "code",
   "execution_count": null,
   "metadata": {},
   "outputs": [],
   "source": [
    "# Reshape input data for LSTM\n",
    "X_train = X_train.reshape((X_train.shape[0], X_train.shape[1], 1))\n",
    "X_test = X_test.reshape((X_test.shape[0], X_test.shape[1], 1))\n",
    "\n",
    "X_train.shape, X_test.shape"
   ]
  },
  {
   "cell_type": "code",
   "execution_count": null,
   "metadata": {},
   "outputs": [],
   "source": [
    "from tensorflow.keras.models import Sequential\n",
    "from tensorflow.keras.layers import LSTM, Dense, Dropout"
   ]
  },
  {
   "cell_type": "code",
   "execution_count": null,
   "metadata": {},
   "outputs": [],
   "source": [
    "# build LSTM model\n",
    "model = Sequential()\n",
    "model.add(LSTM(100, return_sequences=True, input_shape=(X_train.shape[1], 1)))\n",
    "model.add(Dropout(0.2))\n",
    "model.add(LSTM(100, return_sequences=True, input_shape=(X_train.shape[1], 1)))\n",
    "model.add(Dropout(0.2))\n",
    "model.add(LSTM(100, return_sequences=False))\n",
    "model.add(Dropout(0.2))\n",
    "model.add(Dense(1))\n",
    "# Compile the model\n",
    "model.compile(optimizer='adam', loss='mean_squared_error')\n"
   ]
  },
  {
   "cell_type": "code",
   "execution_count": null,
   "metadata": {},
   "outputs": [],
   "source": [
    "# Train the model\n",
    "early_stop = EarlyStopping(monitor='val_loss', patience=10, restore_best_weights=True)\n",
    "history = model.fit(X_train, y_train, epochs=50, batch_size=35, validation_data=(X_test, y_test), callbacks=[early_stop])"
   ]
  },
  {
   "cell_type": "code",
   "execution_count": null,
   "metadata": {},
   "outputs": [],
   "source": [
    "# Evaluate model\n",
    "train_loss = model.evaluate(X_train, y_train)\n",
    "test_loss = model.evaluate(X_test, y_test)\n",
    "print(f\"Train Loss: {train_loss:.4f}\")\n",
    "print(f\"Test Loss: {test_loss:.4f}\")"
   ]
  },
  {
   "cell_type": "code",
   "execution_count": null,
   "metadata": {},
   "outputs": [],
   "source": [
    "# Make predictions on test data\n",
    "predictions = model.predict(X_test)\n",
    "predictions = scaler.inverse_transform(predictions)\n",
    "actual_prices = scaler.inverse_transform(y_test.reshape(-1, 1))"
   ]
  },
  {
   "cell_type": "code",
   "execution_count": null,
   "metadata": {},
   "outputs": [],
   "source": [
    "# Evaluate metrics\n",
    "rmse = np.sqrt(mean_squared_error(actual_prices, predictions))\n",
    "mae = mean_absolute_error(actual_prices, predictions)\n",
    "r2 = r2_score(actual_prices, predictions)\n",
    "\n",
    "# Print the metrics\n",
    "print(f\"RMSE: {rmse:.2f}\")\n",
    "print(f\"MAE: {mae:.2f}\")\n",
    "print(f\"R² Score: {r2:.4f}\")"
   ]
  },
  {
   "cell_type": "code",
   "execution_count": null,
   "metadata": {},
   "outputs": [],
   "source": [
    "# Plot predicted vs. actual prices with date labels\n",
    "plt.figure(figsize=(10, 6))\n",
    "# Create date range for test data\n",
    "test_dates = data['Date'].iloc[-len(actual_prices):]  # Select dates for the test period\n",
    "# Plot actual prices with dates\n",
    "plt.plot(test_dates, actual_prices, color='blue', label='Actual BTC Price')\n",
    "# Plot predicted prices with dates\n",
    "plt.plot(test_dates, predictions, color='red', label='Predicted BTC Price')\n",
    "# Customize the plot\n",
    "plt.title('BTC Price Prediction with LSTM')\n",
    "plt.xlabel('Date')\n",
    "plt.ylabel('BTC Price')\n",
    "plt.legend()\n",
    "# Rotate and format the date labels for better readability\n",
    "plt.xticks(rotation=45)\n",
    "plt.tight_layout()\n",
    "plt.show()"
   ]
  },
  {
   "cell_type": "code",
   "execution_count": null,
   "metadata": {},
   "outputs": [],
   "source": [
    "# Forecast the next 7 days\n",
    "last_60_days = scaled_data[-60:].reshape(1, -1, 1)\n",
    "future_prices = []\n",
    "for _ in range(7):\n",
    "    future_pred = model.predict(last_60_days)\n",
    "    future_prices.append(future_pred[0, 0])\n",
    "    \n",
    "    # Correct reshaping to maintain 3D shape for LSTM\n",
    "    future_pred_reshaped = future_pred.reshape(1, 1, 1)\n",
    "    last_60_days = np.append(last_60_days[:, 1:, :], future_pred_reshaped, axis=1)\n",
    "\n",
    "# Inverse transform future prices\n",
    "future_prices = scaler.inverse_transform(np.array(future_prices).reshape(-1, 1))\n",
    "\n",
    "# Plot future price prediction\n",
    "future_dates = pd.date_range(data['Date'].iloc[-1] + pd.Timedelta(days=1), periods=7)\n",
    "plt.figure(figsize=(10, 5))\n",
    "plt.plot(future_dates, future_prices, marker='o', color='green', label='Forecasted Prices')\n",
    "plt.title('BTC Price Forecast for Next 7 Days')\n",
    "plt.xlabel('Date')\n",
    "plt.ylabel('BTC Price')\n",
    "plt.legend()\n",
    "plt.show()"
   ]
  },
  {
   "cell_type": "code",
   "execution_count": null,
   "metadata": {},
   "outputs": [],
   "source": [
    "# Define backtesting window (last 7 days of test data)\n",
    "backtest_window = 7\n",
    "# Create sequences for backtest\n",
    "X_backtest = scaled_data[-(60 + backtest_window):-backtest_window].reshape(1, -1, 1)\n",
    "# Forecast for the last 7 days using the model\n",
    "backtest_forecast = []\n",
    "for _ in range(backtest_window):\n",
    "    pred = model.predict(X_backtest)\n",
    "    backtest_forecast.append(pred[0, 0])\n",
    "    X_backtest = np.append(X_backtest[:, 1:, :], pred.reshape(1, 1, 1), axis=1)\n",
    "# Inverse transform the forecasted values\n",
    "backtest_forecast = scaler.inverse_transform(np.array(backtest_forecast).reshape(-1, 1))\n",
    "# Get actual prices for comparison\n",
    "actual_future_prices = data['Close'].values[-backtest_window:]\n",
    "# Calculate RMSE and MAE for the backtest\n",
    "rmse_forecast = np.sqrt(mean_squared_error(actual_future_prices, backtest_forecast))\n",
    "mae_forecast = mean_absolute_error(actual_future_prices, backtest_forecast)\n",
    "print(f\"Backtest RMSE: {rmse_forecast:.2f}\")\n",
    "print(f\"Backtest MAE: {mae_forecast:.2f}\")"
   ]
  },
  {
   "cell_type": "code",
   "execution_count": null,
   "metadata": {},
   "outputs": [],
   "source": []
  }
 ],
 "metadata": {
  "kernelspec": {
   "display_name": "base",
   "language": "python",
   "name": "python3"
  },
  "language_info": {
   "codemirror_mode": {
    "name": "ipython",
    "version": 3
   },
   "file_extension": ".py",
   "mimetype": "text/x-python",
   "name": "python",
   "nbconvert_exporter": "python",
   "pygments_lexer": "ipython3",
   "version": "3.12.7"
  }
 },
 "nbformat": 4,
 "nbformat_minor": 2
}
