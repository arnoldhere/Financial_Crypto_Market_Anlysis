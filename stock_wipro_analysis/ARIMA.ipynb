{
 "cells": [
  {
   "cell_type": "code",
   "execution_count": null,
   "metadata": {},
   "outputs": [],
   "source": [
    "# ARIMA (Autoregressive Integrated Moving Average)\n",
    "# ARIMA is a traditional statistical model used to analyze and forecast time series data. It’s best suited for data that shows patterns such as trends or seasonality.\n",
    "# Autoregressive integrated moving average (ARIMA) models predict future values based on past values. ARIMA makes use of lagged moving averages to smooth time series data. They are widely used in technical analysis to forecast future security prices.\n",
    "\n",
    "# Key Components:\n",
    "# Autoregressive (AR): Refers to using past values to predict future values.\n",
    "# Integrated (I): Refers to differencing the data to make it stationary (removing trends or seasonality).\n",
    "# Moving Average (MA): Models the error terms as a combination of past error terms.\n",
    "\n",
    "# When to Use ARIMA:\n",
    "# When the data is linear and shows clear trends or seasonality.\n",
    "# For short to medium-term forecasting."
   ]
  },
  {
   "cell_type": "code",
   "execution_count": 1,
   "metadata": {},
   "outputs": [],
   "source": [
    "import pandas as pd\n",
    "import numpy as np\n",
    "import matplotlib.pyplot as plt\n",
    "from pmdarima import auto_arima"
   ]
  },
  {
   "cell_type": "code",
   "execution_count": 2,
   "metadata": {},
   "outputs": [
    {
     "name": "stdout",
     "output_type": "stream",
     "text": [
      "First 5 rows \n",
      "          Date Symbol Series  Prev Close   Open   High     Low    Last   Close  \\\n",
      "0  04-01-2010  WIPRO     EQ      680.00  685.0  697.0  675.95  696.35  693.80   \n",
      "1  05-01-2010  WIPRO     EQ      693.80  696.3  708.0  693.55  707.85  704.75   \n",
      "2  06-01-2010  WIPRO     EQ      704.75  706.0  710.0  687.00  693.00  690.50   \n",
      "3  07-01-2010  WIPRO     EQ      690.50  695.0  695.5  675.00  678.00  678.25   \n",
      "4  08-01-2010  WIPRO     EQ      678.25  679.0  680.0  666.00  666.40  668.05   \n",
      "\n",
      "     VWAP   Volume      Turnover  Trades  Deliverable Volume  %Deliverble  \n",
      "0  691.08   767166  5.300000e+13     NaN              433411       0.5650  \n",
      "1  699.33  1120433  7.840000e+13     NaN              706061       0.6302  \n",
      "2  693.46  1029382  7.140000e+13     NaN              590142       0.5733  \n",
      "3  679.45  1031096  7.010000e+13     NaN              572349       0.5551  \n",
      "4  669.69   642789  4.300000e+13     NaN              270355       0.4206  \n"
     ]
    }
   ],
   "source": [
    "data =  pd.read_csv(\"../../datasets/wipro_eq_stock.csv\")\n",
    "# set the date as index \n",
    "data.set_index(\"Date\" , drop=False)\n",
    "\n",
    "print(\"First 5 rows \\n\" , data.head())"
   ]
  },
  {
   "cell_type": "code",
   "execution_count": 4,
   "metadata": {},
   "outputs": [
    {
     "name": "stdout",
     "output_type": "stream",
     "text": [
      "Missing values now \n",
      " Date                  0\n",
      "Symbol                0\n",
      "Series                0\n",
      "Prev Close            0\n",
      "Open                  0\n",
      "High                  0\n",
      "Low                   0\n",
      "Last                  0\n",
      "Close                 0\n",
      "VWAP                  0\n",
      "Volume                0\n",
      "Turnover              0\n",
      "Trades                0\n",
      "Deliverable Volume    0\n",
      "%Deliverble           0\n",
      "dtype: int64\n"
     ]
    },
    {
     "data": {
      "application/vnd.microsoft.datawrangler.viewer.v0+json": {
       "columns": [
        {
         "name": "index",
         "rawType": "int64",
         "type": "integer"
        },
        {
         "name": "Date",
         "rawType": "object",
         "type": "string"
        },
        {
         "name": "Symbol",
         "rawType": "object",
         "type": "string"
        },
        {
         "name": "Series",
         "rawType": "object",
         "type": "string"
        },
        {
         "name": "Prev Close",
         "rawType": "float64",
         "type": "float"
        },
        {
         "name": "Open",
         "rawType": "float64",
         "type": "float"
        },
        {
         "name": "High",
         "rawType": "float64",
         "type": "float"
        },
        {
         "name": "Low",
         "rawType": "float64",
         "type": "float"
        },
        {
         "name": "Last",
         "rawType": "float64",
         "type": "float"
        },
        {
         "name": "Close",
         "rawType": "float64",
         "type": "float"
        },
        {
         "name": "VWAP",
         "rawType": "float64",
         "type": "float"
        },
        {
         "name": "Volume",
         "rawType": "int64",
         "type": "integer"
        },
        {
         "name": "Turnover",
         "rawType": "float64",
         "type": "float"
        },
        {
         "name": "Trades",
         "rawType": "float64",
         "type": "float"
        },
        {
         "name": "Deliverable Volume",
         "rawType": "int64",
         "type": "integer"
        },
        {
         "name": "%Deliverble",
         "rawType": "float64",
         "type": "float"
        }
       ],
       "conversionMethod": "pd.DataFrame",
       "ref": "1fe2915b-fecd-4b8a-8f25-16fe27a9096e",
       "rows": [
        [
         "0",
         "04-01-2010",
         "WIPRO",
         "EQ",
         "680.0",
         "685.0",
         "697.0",
         "675.95",
         "696.35",
         "693.8",
         "691.08",
         "767166",
         "53000000000000.0",
         "33599.5",
         "433411",
         "0.565"
        ],
        [
         "1",
         "05-01-2010",
         "WIPRO",
         "EQ",
         "693.8",
         "696.3",
         "708.0",
         "693.55",
         "707.85",
         "704.75",
         "699.33",
         "1120433",
         "78400000000000.0",
         "33599.5",
         "706061",
         "0.6302"
        ],
        [
         "2",
         "06-01-2010",
         "WIPRO",
         "EQ",
         "704.75",
         "706.0",
         "710.0",
         "687.0",
         "693.0",
         "690.5",
         "693.46",
         "1029382",
         "71400000000000.0",
         "33599.5",
         "590142",
         "0.5733"
        ],
        [
         "3",
         "07-01-2010",
         "WIPRO",
         "EQ",
         "690.5",
         "695.0",
         "695.5",
         "675.0",
         "678.0",
         "678.25",
         "679.45",
         "1031096",
         "70100000000000.0",
         "33599.5",
         "572349",
         "0.5551"
        ],
        [
         "4",
         "08-01-2010",
         "WIPRO",
         "EQ",
         "678.25",
         "679.0",
         "680.0",
         "666.0",
         "666.4",
         "668.05",
         "669.69",
         "642789",
         "43000000000000.0",
         "33599.5",
         "270355",
         "0.4206"
        ]
       ],
       "shape": {
        "columns": 15,
        "rows": 5
       }
      },
      "text/html": [
       "<div>\n",
       "<style scoped>\n",
       "    .dataframe tbody tr th:only-of-type {\n",
       "        vertical-align: middle;\n",
       "    }\n",
       "\n",
       "    .dataframe tbody tr th {\n",
       "        vertical-align: top;\n",
       "    }\n",
       "\n",
       "    .dataframe thead th {\n",
       "        text-align: right;\n",
       "    }\n",
       "</style>\n",
       "<table border=\"1\" class=\"dataframe\">\n",
       "  <thead>\n",
       "    <tr style=\"text-align: right;\">\n",
       "      <th></th>\n",
       "      <th>Date</th>\n",
       "      <th>Symbol</th>\n",
       "      <th>Series</th>\n",
       "      <th>Prev Close</th>\n",
       "      <th>Open</th>\n",
       "      <th>High</th>\n",
       "      <th>Low</th>\n",
       "      <th>Last</th>\n",
       "      <th>Close</th>\n",
       "      <th>VWAP</th>\n",
       "      <th>Volume</th>\n",
       "      <th>Turnover</th>\n",
       "      <th>Trades</th>\n",
       "      <th>Deliverable Volume</th>\n",
       "      <th>%Deliverble</th>\n",
       "    </tr>\n",
       "  </thead>\n",
       "  <tbody>\n",
       "    <tr>\n",
       "      <th>0</th>\n",
       "      <td>04-01-2010</td>\n",
       "      <td>WIPRO</td>\n",
       "      <td>EQ</td>\n",
       "      <td>680.00</td>\n",
       "      <td>685.0</td>\n",
       "      <td>697.0</td>\n",
       "      <td>675.95</td>\n",
       "      <td>696.35</td>\n",
       "      <td>693.80</td>\n",
       "      <td>691.08</td>\n",
       "      <td>767166</td>\n",
       "      <td>5.300000e+13</td>\n",
       "      <td>33599.5</td>\n",
       "      <td>433411</td>\n",
       "      <td>0.5650</td>\n",
       "    </tr>\n",
       "    <tr>\n",
       "      <th>1</th>\n",
       "      <td>05-01-2010</td>\n",
       "      <td>WIPRO</td>\n",
       "      <td>EQ</td>\n",
       "      <td>693.80</td>\n",
       "      <td>696.3</td>\n",
       "      <td>708.0</td>\n",
       "      <td>693.55</td>\n",
       "      <td>707.85</td>\n",
       "      <td>704.75</td>\n",
       "      <td>699.33</td>\n",
       "      <td>1120433</td>\n",
       "      <td>7.840000e+13</td>\n",
       "      <td>33599.5</td>\n",
       "      <td>706061</td>\n",
       "      <td>0.6302</td>\n",
       "    </tr>\n",
       "    <tr>\n",
       "      <th>2</th>\n",
       "      <td>06-01-2010</td>\n",
       "      <td>WIPRO</td>\n",
       "      <td>EQ</td>\n",
       "      <td>704.75</td>\n",
       "      <td>706.0</td>\n",
       "      <td>710.0</td>\n",
       "      <td>687.00</td>\n",
       "      <td>693.00</td>\n",
       "      <td>690.50</td>\n",
       "      <td>693.46</td>\n",
       "      <td>1029382</td>\n",
       "      <td>7.140000e+13</td>\n",
       "      <td>33599.5</td>\n",
       "      <td>590142</td>\n",
       "      <td>0.5733</td>\n",
       "    </tr>\n",
       "    <tr>\n",
       "      <th>3</th>\n",
       "      <td>07-01-2010</td>\n",
       "      <td>WIPRO</td>\n",
       "      <td>EQ</td>\n",
       "      <td>690.50</td>\n",
       "      <td>695.0</td>\n",
       "      <td>695.5</td>\n",
       "      <td>675.00</td>\n",
       "      <td>678.00</td>\n",
       "      <td>678.25</td>\n",
       "      <td>679.45</td>\n",
       "      <td>1031096</td>\n",
       "      <td>7.010000e+13</td>\n",
       "      <td>33599.5</td>\n",
       "      <td>572349</td>\n",
       "      <td>0.5551</td>\n",
       "    </tr>\n",
       "    <tr>\n",
       "      <th>4</th>\n",
       "      <td>08-01-2010</td>\n",
       "      <td>WIPRO</td>\n",
       "      <td>EQ</td>\n",
       "      <td>678.25</td>\n",
       "      <td>679.0</td>\n",
       "      <td>680.0</td>\n",
       "      <td>666.00</td>\n",
       "      <td>666.40</td>\n",
       "      <td>668.05</td>\n",
       "      <td>669.69</td>\n",
       "      <td>642789</td>\n",
       "      <td>4.300000e+13</td>\n",
       "      <td>33599.5</td>\n",
       "      <td>270355</td>\n",
       "      <td>0.4206</td>\n",
       "    </tr>\n",
       "  </tbody>\n",
       "</table>\n",
       "</div>"
      ],
      "text/plain": [
       "         Date Symbol Series  Prev Close   Open   High     Low    Last   Close  \\\n",
       "0  04-01-2010  WIPRO     EQ      680.00  685.0  697.0  675.95  696.35  693.80   \n",
       "1  05-01-2010  WIPRO     EQ      693.80  696.3  708.0  693.55  707.85  704.75   \n",
       "2  06-01-2010  WIPRO     EQ      704.75  706.0  710.0  687.00  693.00  690.50   \n",
       "3  07-01-2010  WIPRO     EQ      690.50  695.0  695.5  675.00  678.00  678.25   \n",
       "4  08-01-2010  WIPRO     EQ      678.25  679.0  680.0  666.00  666.40  668.05   \n",
       "\n",
       "     VWAP   Volume      Turnover   Trades  Deliverable Volume  %Deliverble  \n",
       "0  691.08   767166  5.300000e+13  33599.5              433411       0.5650  \n",
       "1  699.33  1120433  7.840000e+13  33599.5              706061       0.6302  \n",
       "2  693.46  1029382  7.140000e+13  33599.5              590142       0.5733  \n",
       "3  679.45  1031096  7.010000e+13  33599.5              572349       0.5551  \n",
       "4  669.69   642789  4.300000e+13  33599.5              270355       0.4206  "
      ]
     },
     "execution_count": 4,
     "metadata": {},
     "output_type": "execute_result"
    }
   ],
   "source": [
    "data[\"Trades\"] = data[\"Trades\"].fillna(data[\"Trades\"].median())\n",
    "print(\"Missing values now \\n\" , data.isnull().sum())\n",
    "data.head()"
   ]
  },
  {
   "cell_type": "code",
   "execution_count": null,
   "metadata": {},
   "outputs": [
    {
     "data": {
      "text/plain": [
       "{'ADF Statistic': -2.4187225434509974,\n",
       " 'p-value': 0.1365216843283873,\n",
       " 'Critical Values': {'1%': -3.4329895489772104,\n",
       "  '5%': -2.8627061345839557,\n",
       "  '10%': -2.5673907792989072},\n",
       " 'Is Stationary': False}"
      ]
     },
     "execution_count": 6,
     "metadata": {},
     "output_type": "execute_result"
    }
   ],
   "source": [
    "# statinory test using ADF test\n",
    "\n",
    "# a stationarity test determines if a time series data's statistical properties (like mean, variance, and autocorrelation) remain constant over time, which is a fundamental assumption for many time series models. \n",
    "\n",
    "from statsmodels.tsa.stattools import adfuller\n",
    "\n",
    "# Perform ADF test\n",
    "adf_result = adfuller(data[\"Close\"])\n",
    "\n",
    "# Extract and format ADF test results\n",
    "adf_output = {\n",
    "    \"ADF Statistic\": adf_result[0],\n",
    "    \"p-value\": adf_result[1],\n",
    "    \"Critical Values\": adf_result[4],\n",
    "    \"Is Stationary\": adf_result[1] <= 0.05  # Check if p-value is less than 0.05\n",
    "}\n",
    "\n",
    "adf_output"
   ]
  },
  {
   "cell_type": "code",
   "execution_count": null,
   "metadata": {},
   "outputs": [],
   "source": [
    "# Apply Differencing to Make Data Stationary"
   ]
  },
  {
   "cell_type": "code",
   "execution_count": 15,
   "metadata": {},
   "outputs": [
    {
     "name": "stdout",
     "output_type": "stream",
     "text": [
      "Performing stepwise search to minimize aic\n",
      " ARIMA(2,1,2)(0,0,0)[0] intercept   : AIC=18695.512, Time=4.43 sec\n",
      " ARIMA(0,1,0)(0,0,0)[0] intercept   : AIC=18696.547, Time=0.08 sec\n",
      " ARIMA(1,1,0)(0,0,0)[0] intercept   : AIC=18696.999, Time=0.21 sec\n",
      " ARIMA(0,1,1)(0,0,0)[0] intercept   : AIC=18696.984, Time=0.24 sec\n",
      " ARIMA(0,1,0)(0,0,0)[0]             : AIC=18695.284, Time=0.07 sec\n",
      " ARIMA(1,1,1)(0,0,0)[0] intercept   : AIC=18698.899, Time=0.35 sec\n",
      "\n",
      "Best model:  ARIMA(0,1,0)(0,0,0)[0]          \n",
      "Total fit time: 5.414 seconds\n"
     ]
    },
    {
     "data": {
      "text/plain": [
       "(0, 1, 0)"
      ]
     },
     "execution_count": 15,
     "metadata": {},
     "output_type": "execute_result"
    }
   ],
   "source": [
    "from statsmodels.tsa.arima.model import ARIMA\n",
    "\n",
    "# Apply Auto-ARIMA to identify the best p, d, q values\n",
    "auto_arima_model = auto_arima(data[\"Close\"], seasonal=False, trace=True, suppress_warnings=True, stepwise=True, error_action=\"ignore\")\n",
    "\n",
    "# Get the best order (p, d, q) from Auto-ARIMA\n",
    "best_order = auto_arima_model.order\n",
    "best_order\n"
   ]
  },
  {
   "cell_type": "code",
   "execution_count": 16,
   "metadata": {},
   "outputs": [],
   "source": [
    "# Fit the optimized ARIMA model with the best order\n",
    "best_model = ARIMA(data[\"Close\"], order=(2, 1, 2))\n",
    "best_model_fit = best_model.fit()\n",
    "\n",
    "# Forecast for the test period (last 100 days)\n",
    "n_test_days = 100\n",
    "best_forecast = best_model_fit.forecast(steps=n_test_days)\n",
    "\n",
    "# Extract actual data for comparison\n",
    "actual_data = data[\"Close\"].iloc[-n_test_days:]\n"
   ]
  },
  {
   "cell_type": "code",
   "execution_count": 17,
   "metadata": {},
   "outputs": [
    {
     "data": {
      "image/png": "[encoded data removed]",
      "text/plain": [
       "<Figure size 1200x600 with 1 Axes>"
      ]
     },
     "metadata": {},
     "output_type": "display_data"
    }
   ],
   "source": [
    "\n",
    "# Plot actual vs predicted prices\n",
    "plt.figure(figsize=(12, 6))\n",
    "plt.plot(actual_data.index, actual_data, label=\"Actual Price\", color=\"blue\")\n",
    "plt.plot(actual_data.index, best_forecast, label=\"Predicted Price (Optimized ARIMA)\", color=\"red\")\n",
    "plt.title(\"WIPRO Stock Price Prediction Using Optimized ARIMA (2, 1, 2)\")\n",
    "plt.xlabel(\"Date\")\n",
    "plt.ylabel(\"Stock Price (INR)\")\n",
    "plt.legend()\n",
    "plt.show()\n"
   ]
  },
  {
   "cell_type": "code",
   "execution_count": null,
   "metadata": {},
   "outputs": [],
   "source": [
    "# The red line is almost flat, indicating that the model is predicting the future stock price as a constant (mean value) rather than capturing the actual fluctuations."
   ]
  }
 ],
 "metadata": {
  "kernelspec": {
   "display_name": "base",
   "language": "python",
   "name": "python3"
  },
  "language_info": {
   "codemirror_mode": {
    "name": "ipython",
    "version": 3
   },
   "file_extension": ".py",
   "mimetype": "text/x-python",
   "name": "python",
   "nbconvert_exporter": "python",
   "pygments_lexer": "ipython3",
   "version": "3.12.7"
  }
 },
 "nbformat": 4,
 "nbformat_minor": 2
}
